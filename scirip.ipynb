{
 "cells": [
  {
   "cell_type": "code",
   "execution_count": null,
   "id": "7d9b057d",
   "metadata": {},
   "outputs": [],
   "source": [
    "import numpy as np\n",
    "import random\n",
    "\n",
    "print(\"Bienvenido grumete, es hora de asumir el cargo de armero y luchar con valentia\")\n",
    "print(\"VAMOOOOS A POR ELLOOOOSS !!!!\")"
   ]
  },
  {
   "cell_type": "code",
   "execution_count": null,
   "id": "f070b722",
   "metadata": {},
   "outputs": [],
   "source": [
    "def pantalla_inicial():\n",
    "    while True:\n",
    "        print(\"\\n-------------- Menú Inicial ---------------\")\n",
    "        print(\"Pulse 1: Para jugar \")\n",
    "        print(\"Puse 2: Para ver normas\")\n",
    "        print(\"Pulsa 3: Para salir del juego\")"
   ]
  },
  {
   "cell_type": "code",
   "execution_count": null,
   "id": "71fa6c07",
   "metadata": {},
   "outputs": [],
   "source": [
    "def crear_tablero(lado = 10):\n",
    "    return  np.full((lado,lado),\" \")\n",
    "    "
   ]
  },
  {
   "cell_type": "code",
   "execution_count": null,
   "id": "d3f782b9",
   "metadata": {},
   "outputs": [],
   "source": [
    "# Aqui se inica el tablero inicial vacío\n",
    "\n",
    "tablero = crear_tablero(10)\n",
    "tablero_pm = crear_tablero() # Tablero principal mio\n",
    "tablero_dm = crear_tablero() # registro de mis disparos\n",
    "tablero_pmq = crear_tablero() #tablero princiapl maquina\n",
    "tablero_dmq = crear_tablero()#tablero disparos maquina\n",
    "\n",
    "print(tablero_dm)\n"
   ]
  },
  {
   "cell_type": "code",
   "execution_count": null,
   "id": "cab22437",
   "metadata": {},
   "outputs": [],
   "source": [
    "# Generación de barcos\n",
    "\n",
    "\n",
    "barcos = {3:2, 2:3, 1:4} # {cantidad barcos : eslora}\n",
    "esloras = []\n",
    "for n_barcos, l_eslo in barcos.items():\n",
    "    esloras.extend([l_eslo] * n_barcos)\n",
    "\n"
   ]
  },
  {
   "cell_type": "code",
   "execution_count": null,
   "id": "18b11055",
   "metadata": {},
   "outputs": [],
   "source": [
    "# colocar barcos random \n",
    "\n",
    "def colocar_barco(tablero,barco):\n",
    "    tablero_nuevo = tablero.copy()\n",
    "    num_filas = tablero.shape[0] # se revisa el numero maximo de filas\n",
    "    num_columnas = tablero.shape[1]  # se revisa el numero maximo de columnas\n",
    "    for pieza in barco: \n",
    "        fila , columna = pieza\n",
    "        \n",
    "        if fila < 0 or fila >= num_filas: # se usa para comprobar los limites del tablero para las horizontales\n",
    "            return False\n",
    "        elif columna < 0 or columna >= num_columnas: # lo mismo pero para el vertical\n",
    "            return False\n",
    "        elif tablero[fila,columna] in [\"X\" , \"O\"] :\n",
    "            return False\n",
    "        tablero_nuevo[fila , columna] = \"O\"\n",
    "    return tablero_nuevo\n"
   ]
  },
  {
   "cell_type": "code",
   "execution_count": null,
   "id": "a3932d2d",
   "metadata": {},
   "outputs": [],
   "source": [
    "def barco_random(tablero,eslora,n_intentos = 100):\n",
    "    num_filas = tablero.shape[0]\n",
    "    num_columnas = tablero.shape[1]\n",
    "    \n",
    "    while True:\n",
    "        barco = []\n",
    "        trozo1 = (random.randint(0,num_filas - 1),random.randint(0,num_columnas - 1))\n",
    "        barco.append(trozo1)\n",
    "        direccion = random.choice([\"N\",\"S\",\"E\",\"O\"])\n",
    "\n",
    "        fila = trozo1[0]\n",
    "        columna = trozo1[1]\n",
    "\n",
    "        for i in range(eslora - 1):\n",
    "\n",
    "            if direccion == \"N\":\n",
    "                fila -= 1\n",
    "            elif direccion == \"S\":\n",
    "                fila += 1\n",
    "            elif direccion == \"E\":\n",
    "                columna +=1\n",
    "            elif direccion == \"O\":\n",
    "                columna -= 1\n",
    "            trozo2 = (fila,columna)\n",
    "            barco.append(trozo2)\n",
    "        tablero_nuevo = colocar_barco(tablero,barco)\n",
    "        if type(tablero_nuevo) == np.ndarray:\n",
    "            return tablero_nuevo\n",
    "        print(\"no puedo poner la pieza, sigo intentandolo\")\n",
    "\n",
    "\n",
    "        "
   ]
  },
  {
   "cell_type": "code",
   "execution_count": null,
   "id": "cc5c35c7",
   "metadata": {},
   "outputs": [],
   "source": [
    "for eslora in esloras:\n",
    "    tablero_pm = barco_random(tablero_pm,eslora)\n",
    "    tablero_pmq = barco_random(tablero_pmq,eslora)\n",
    "\n",
    "\n"
   ]
  },
  {
   "cell_type": "code",
   "execution_count": null,
   "id": "25b452b3",
   "metadata": {},
   "outputs": [],
   "source": [
    "# Lógia de disparos, para tablero maquina y mi tablero de disparos\n",
    "\n",
    "def disparos(tablero_pmq,tablero_dm,a,b):\n",
    "    if tablero_pmq [a,b] == \"O\":\n",
    "        tablero_pmq [a,b] = \"X\"\n",
    "        tablero_dm [a,b] = \"X\"\n",
    "        return \"Barco alcanzado\"\n",
    "    \n",
    "    elif tablero_pmq [a,b] == \" \":\n",
    "        tablero_pmq [a,b] = \"-\"\n",
    "        tablero_dm [a,b] = \"-\"\n",
    "        return \"Agua!\" \n",
    "    else:\n",
    "        return \"Ya has disparado aquí\"\n"
   ]
  },
  {
   "cell_type": "code",
   "execution_count": null,
   "id": "e440655c",
   "metadata": {},
   "outputs": [],
   "source": [
    "# Lógia de disparos, para tablero maquina y mi tablero de disparos\n",
    "\n",
    "def disparos_maquina(tablero_pm,tablero_dmq):\n",
    "    n_filas, n_columnas = tablero.shape\n",
    "    while True:\n",
    "        a = random.randint(0, n_filas - 1)\n",
    "        b = random.randint(0, n_columnas - 1)\n",
    "\n",
    "        if tablero_pm[a,b] in [\"X\",\"-\"]: \n",
    "            continue\n",
    "\n",
    "        if tablero_pm[a,b] == \"O\":\n",
    "            tablero_pm[a,b] = \"X\"\n",
    "            tablero_dmq[a,b] = \"X\"\n",
    "            print(\" Barco tocado! \")\n",
    "            return \"Barco alcanzado\"\n",
    "        \n",
    "        if tablero_pm[a,b] == \" \":\n",
    "            tablero_pm [a,b]= \"-\"\n",
    "            tablero_dmq[a,b] = \"-\"\n",
    "            print(\"Ha fallado el disparo\")\n",
    "            return \"Agua!\"\n",
    "        else:\n",
    "            return \"Ya has disparado aquí\""
   ]
  },
  {
   "cell_type": "code",
   "execution_count": null,
   "id": "1c3dda62",
   "metadata": {},
   "outputs": [],
   "source": [
    "def compro_victoria(tablero):\n",
    "    return np.count_nonzero(tablero == \"O\") == 0"
   ]
  },
  {
   "cell_type": "code",
   "execution_count": null,
   "id": "34a9f37b",
   "metadata": {},
   "outputs": [],
   "source": [
    "def mostrar_tablero(tablero):\n",
    "    print(\"   \" + \" \".join(str(i) for i in range(tablero.shape[1])))\n",
    "    for i, fila in enumerate(tablero):\n",
    "        print(f\"{i:2} \" + \" \".join(fila))"
   ]
  },
  {
   "cell_type": "code",
   "execution_count": null,
   "id": "ad594539",
   "metadata": {},
   "outputs": [],
   "source": [
    "# Lógica de turnos\n",
    "\n",
    "# Mi turno\n",
    "\n",
    "def controla_turnos(tablero_pmq,tablero_dm):\n",
    "    while True:\n",
    "        disparo = input(\"Vamos a disparar ! Dime una codenada (num_1,num_2) o escribe 'salir': \")\n",
    "\n",
    "        if disparo.lower() == \"salir\":\n",
    "            return \"salir\"\n",
    "    \n",
    "        try:\n",
    "         a,b = map(int,disparo.split(\",\"))\n",
    "        except:\n",
    "            print(\"Formato no válido, vuelva a meter la coordenada: \")\n",
    "            continue\n",
    "    \n",
    "        resultado = disparos(tablero_pmq,tablero_dm,a,b)\n",
    "\n",
    "        if resultado == \"Barco alcanzado\":\n",
    "            print(\"Sigue disparando\")\n",
    "            continue\n",
    "        elif resultado == \"Agua!\":\n",
    "            print(\"Agua! , cambio de turno\")\n",
    "            break\n",
    "        elif resultado == \"Ya has disparado aquí\":\n",
    "            print(\"Aquí ya has disparado, eleige otra coordenada\")\n",
    "            continue\n",
    "\n",
    "        if compro_victoria(tablero_pmq):\n",
    "            print(\"Ya no le quedan barcos al enemigo, ¡HEMOS GANADOO!\")\n",
    "            break\n",
    "    \n",
    "    # Turno de la máquina\n",
    "        resultado = disparo(tablero_pm,tablero_dmq)\n",
    "\n",
    "        if resultado == \"Barco alcanzado\":\n",
    "            print(\"sigue disparando la máquina\")\n",
    "        \n",
    "        elif resultado == \"Agua!\":\n",
    "            print(\"La maquina falló, nos toca\")\n",
    "            break\n",
    "\n",
    "        if compro_victoria(tablero_pm):\n",
    "            print(\"El enemigo ha acabado con todos los barcos, PERDIMOOOS :( \")\n",
    "\n",
    "\n"
   ]
  },
  {
   "cell_type": "code",
   "execution_count": null,
   "id": "efd56435",
   "metadata": {},
   "outputs": [],
   "source": [
    "print(tablero_pm)\n"
   ]
  },
  {
   "cell_type": "code",
   "execution_count": null,
   "id": "e0d49871",
   "metadata": {},
   "outputs": [],
   "source": []
  }
 ],
 "metadata": {
  "kernelspec": {
   "display_name": "Python 3",
   "language": "python",
   "name": "python3"
  },
  "language_info": {
   "codemirror_mode": {
    "name": "ipython",
    "version": 3
   },
   "file_extension": ".py",
   "mimetype": "text/x-python",
   "name": "python",
   "nbconvert_exporter": "python",
   "pygments_lexer": "ipython3",
   "version": "3.12.6"
  }
 },
 "nbformat": 4,
 "nbformat_minor": 5
}
